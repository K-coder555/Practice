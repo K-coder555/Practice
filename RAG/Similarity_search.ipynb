{
 "cells": [
  {
   "cell_type": "markdown",
   "id": "78aa6b4f",
   "metadata": {},
   "source": [
    "# Similarity Search\n",
    "\n",
    "\n",
    "PDF → 청크 → 임베딩 → 벡터DB → 검색 순으로 진행됩니다."
   ]
  },
  {
   "cell_type": "markdown",
   "id": "d45dc17b",
   "metadata": {},
   "source": [
    "### 1) 라이브러리 임포트 + PDF 로더\n",
    "\n",
    "\n",
    "- 목적: PDF를 페이지별 텍스트로 로딩합니다(`pypdf.PdfReader`).\n",
    "- 동작: 50자 이하 텍스트 페이지를 제외하고 `[{page, content}]` 리스트로 반환합니다.\n",
    "- 팁: 추후 출처 표시를 위해 `page` 메타를 유지합니다. 빈/잡음 페이지 필터링 임계값(50자)은 데이터에 맞게 조정 필요."
   ]
  },
  {
   "cell_type": "code",
   "execution_count": 30,
   "id": "deffda18",
   "metadata": {},
   "outputs": [],
   "source": [
    "import streamlit as st\n",
    "import matplotlib.pyplot as plt\n",
    "from sklearn.decomposition import PCA\n",
    "import chromadb\n",
    "from langchain_community.embeddings import OllamaEmbeddings\n",
    "from langchain.text_splitter import RecursiveCharacterTextSplitter\n",
    "from pypdf import PdfReader\n",
    "import numpy as np\n",
    "\n",
    "# PDF 파일 로드\n",
    "def load_pdf(pdf_path):\n",
    "    reader = PdfReader(pdf_path)\n",
    "    documents = []\n",
    "    \n",
    "    for page_num, page in enumerate(reader.pages, 1):\n",
    "        text = page.extract_text()\n",
    "        if len(text.strip()) > 50:\n",
    "            documents.append({\n",
    "                \"page\": str(page_num),\n",
    "                \"content\": text.strip()\n",
    "            })\n",
    "    \n",
    "    print(f\"{len(documents)}개 페이지 로드 완료\")\n",
    "    return documents"
   ]
  },
  {
   "cell_type": "markdown",
   "id": "dc023e9f",
   "metadata": {},
   "source": [
    "### 2) 텍스트 청크 생성\n",
    "\n",
    "\n",
    "- 목적: 긴 페이지 텍스트를 RecursiveCharacterTextSplitter를 사용하여 `chunk_size` 기준으로 분할합니다.\n",
    "- 파라미터: `chunk_size=1000`(문자 수 기준). 'chink_overlap=200(overlap) 사용\n",
    "- 장점: 검색/임베딩 최적화"
   ]
  },
  {
   "cell_type": "code",
   "execution_count": 31,
   "id": "9c875a1b",
   "metadata": {},
   "outputs": [],
   "source": [
    "# 청크 생성\n",
    "def create_chunks(documents, chunk_size, chunk_overlap):\n",
    "\n",
    "    text_splitter = RecursiveCharacterTextSplitter(\n",
    "        chunk_size=chunk_size,\n",
    "        chunk_overlap=chunk_overlap,\n",
    "        length_function=len,\n",
    "        separators=[\"\\n\\n\", \"\\n\", \"。\", \".\", \" \", \"\"]\n",
    "    )\n",
    "\n",
    "    chunks = []\n",
    "    chunk_id = 0\n",
    "    \n",
    "    for doc in documents:\n",
    "        split_texts = text_splitter.split_text(doc[\"content\"])\n",
    "        \n",
    "        for text in split_texts:\n",
    "            if text.strip():\n",
    "                chunks.append({\n",
    "                    \"id\": f\"chunk_{chunk_id}\",\n",
    "                    \"content\": text.strip(),\n",
    "                    \"page\": doc[\"page\"]\n",
    "                })\n",
    "                chunk_id += 1\n",
    "    \n",
    "    print(f\"{len(chunks)}개 청크 생성 완료\")\n",
    "    return chunks"
   ]
  },
  {
   "cell_type": "markdown",
   "id": "51017419",
   "metadata": {},
   "source": [
    "### 3) 임베딩 + Chroma 컬렉션 구성\n",
    "\n",
    "\n",
    "- 목적: Ollama 임베딩(`nomic-embed-text`)으로 청크를 벡터화하고 Chroma 컬렉션에 적재합니다.\n",
    "- 배치: `batch_size=10`으로 임베딩/적재를 나눠 처리합니다."
   ]
  },
  {
   "cell_type": "code",
   "execution_count": 32,
   "id": "d2bf1900",
   "metadata": {},
   "outputs": [],
   "source": [
    "# Chroma DB 초기화 및 데이터 추가\n",
    "def setup_database(chunks, collection_name):\n",
    "    # Ollama 임베딩 모델 초기화\n",
    "    ollama_emb = OllamaEmbeddings(model=\"nomic-embed-text\")\n",
    "    \n",
    "    # Chroma 클라이언트 생성\n",
    "    client = chromadb.Client()\n",
    "    \n",
    "    # 컬렉션 생성\n",
    "    collection = client.get_or_create_collection(\n",
    "        name=collection_name\n",
    "    )\n",
    "    \n",
    "    # 청크를 배치로 처리하여 임베딩 생성 및 추가\n",
    "    print(\"임베딩 생성 중...\")\n",
    "    batch_size = 10\n",
    "    \n",
    "    for i in range(0, len(chunks), batch_size):\n",
    "        batch_chunks = chunks[i:i+batch_size]\n",
    "        texts = [c[\"content\"] for c in batch_chunks]\n",
    "        \n",
    "        # Ollama로 임베딩 생성\n",
    "        embeddings = ollama_emb.embed_documents(texts)\n",
    "        \n",
    "        collection.add(\n",
    "            ids=[c[\"id\"] for c in batch_chunks],\n",
    "            documents=texts,\n",
    "            embeddings=embeddings,\n",
    "            metadatas=[{\"page\": c[\"page\"]} for c in batch_chunks]\n",
    "        )\n",
    "        \n",
    "        print(f\"진행: {min(i+batch_size, len(chunks))}/{len(chunks)}\")\n",
    "    \n",
    "    print(\"데이터베이스 추가 완료\")\n",
    "    return collection, ollama_emb"
   ]
  },
  {
   "cell_type": "markdown",
   "id": "49802a04",
   "metadata": {},
   "source": [
    "### 4) 유사도 검색 함수\n",
    "\n",
    "\n",
    "- 목적: 질의를 임베딩해 가장 가까운 문서 청크를 조회합니다.\n",
    "- 출력: 상위 `n_results`개의 문서, 메타데이터(페이지), 코사인 유사도(cosine similarity)."
   ]
  },
  {
   "cell_type": "code",
   "execution_count": 33,
   "id": "71956720",
   "metadata": {},
   "outputs": [],
   "source": [
    "# 검색\n",
    "def search(collection, ollama_emb, query, n_results=3):\n",
    "    # 쿼리 임베딩 생성\n",
    "    query_embedding = ollama_emb.embed_query(query)\n",
    "    \n",
    "    # 검색 수행\n",
    "    results = collection.query(\n",
    "        query_embeddings=[query_embedding],\n",
    "        n_results=n_results,\n",
    "        include=[\"documents\", \"metadatas\", \"embeddings\"]\n",
    "    )\n",
    "    print(f\"질문: {query}\")\n",
    "    print(\"-\" * 60)\n",
    "    print(f\"상위 {n_results}개 결과 검색\")\n",
    "    print(\"-\" * 60)\n",
    "    # 쿼리 임베딩을 numpy 배열로 변환\n",
    "    query_emb_array = np.array(query_embedding)\n",
    "    \n",
    "    for i, (doc, meta, emb) in enumerate(zip(\n",
    "        results[\"documents\"][0],\n",
    "        results[\"metadatas\"][0],\n",
    "        results[\"embeddings\"][0]\n",
    "    ), 1):\n",
    "        # 문서 임베딩을 numpy 배열로 변환\n",
    "        doc_emb_array = np.array(emb)\n",
    "        \n",
    "        # 코사인 유사도 계산\n",
    "        cosine_sim = np.dot(query_emb_array, doc_emb_array) / (\n",
    "            np.linalg.norm(query_emb_array) * np.linalg.norm(doc_emb_array)\n",
    "        )\n",
    "        \n",
    "        print(f\"[결과 {i}] 문서 페이지: {meta['page']}, 코사인 유사도: {cosine_sim:.3f}\")\n",
    "        print(doc[:100] + \"...\")"
   ]
  },
  {
   "cell_type": "code",
   "execution_count": 42,
   "id": "dae12dd6",
   "metadata": {},
   "outputs": [],
   "source": [
    "def visualize_embeddings(collection, queries, ollama_emb):\n",
    "    plt.rcParams['font.family'] = 'Malgun Gothic'  # Windows\n",
    "    plt.rcParams['axes.unicode_minus'] = False  # 한글 폰트 사용 시 마이너스 깨짐 방지\n",
    "    # 모든 임베딩 가져오기\n",
    "    all_data = collection.get(include=[\"embeddings\", \"metadatas\"])\n",
    "    embeddings = np.array(all_data[\"embeddings\"])\n",
    "    \n",
    "    # 차원 축소 (PCA)\n",
    "    pca = PCA(n_components=2)\n",
    "    embeddings_2d = pca.fit_transform(embeddings)\n",
    "    \n",
    "    # 플롯\n",
    "    plt.figure(figsize=(10, 8))\n",
    "    plt.scatter(embeddings_2d[:, 0], embeddings_2d[:, 1], alpha=0.5, label='Documents')\n",
    "    \n",
    "    # 쿼리도 표시\n",
    "    for query in queries:\n",
    "        query_emb = ollama_emb.embed_query(query)\n",
    "        query_2d = pca.transform([query_emb])\n",
    "        plt.scatter(query_2d[0, 0], query_2d[0, 1], marker='*', s=200, label=query)\n",
    "    \n",
    "    plt.legend()\n",
    "    plt.title('Document Embeddings Visualization')\n",
    "    plt.show()\n"
   ]
  },
  {
   "cell_type": "markdown",
   "id": "955e326f",
   "metadata": {},
   "source": [
    "### 5) 엔드투엔드 실행\n",
    "\n",
    "\n",
    "- 입력: `test_pdf.pdf` 파일을 로드하고 → 청크 생성 → 컬렉션 구성 → 예시 질의 리스트로 검색을 수행합니다."
   ]
  },
  {
   "cell_type": "code",
   "execution_count": 36,
   "id": "16aa39e3",
   "metadata": {},
   "outputs": [
    {
     "name": "stdout",
     "output_type": "stream",
     "text": [
      "39개 페이지 로드 완료\n",
      "75개 청크 생성 완료\n",
      "임베딩 생성 중...\n",
      "진행: 10/75\n",
      "진행: 20/75\n",
      "진행: 30/75\n",
      "진행: 40/75\n",
      "진행: 50/75\n",
      "진행: 60/75\n",
      "진행: 70/75\n",
      "진행: 75/75\n",
      "데이터베이스 추가 완료\n"
     ]
    }
   ],
   "source": [
    "\n",
    "# PDF 파일 경로\n",
    "pdf_path = \"test_pdf.pdf\"\n",
    "    \n",
    "# 1. PDF 로드\n",
    "documents = load_pdf(pdf_path)\n",
    "    \n",
    "# 2. 청크 생성\n",
    "chunks = create_chunks(documents, chunk_size=1000, chunk_overlap=200)\n",
    "    \n",
    "# 3. 데이터베이스 설정\n",
    "collection, ollama_emb = setup_database(chunks, collection_name=\"ai4science\")"
   ]
  },
  {
   "cell_type": "code",
   "execution_count": 39,
   "id": "40e23676",
   "metadata": {},
   "outputs": [
    {
     "name": "stdout",
     "output_type": "stream",
     "text": [
      "질문: AlphaFold는 무엇인가?\n",
      "------------------------------------------------------------\n",
      "상위 3개 결과 검색\n",
      "------------------------------------------------------------\n",
      "[결과 1] 문서 페이지: 30, 코사인 유사도: 0.637\n",
      "SPRi\u0000이슈리포트\u0000IS-208과학을\u0000위한\u0000AI(AI4Science)\u0000연구의\u0000패러다임을\u0000바꾸다\u0000\n",
      "25\n",
      "참고1구글의\u0000생명분야\u0000단백질\u0000구조\u0000예측\u0000인공지능\u0000알파폴드(AlphaFold)<...\n",
      "[결과 2] 문서 페이지: 30, 코사인 유사도: 0.637\n",
      "SPRi\u0000이슈리포트\u0000IS-208과학을\u0000위한\u0000AI(AI4Science)\u0000연구의\u0000패러다임을\u0000바꾸다\u0000\n",
      "25\n",
      "참고1구글의\u0000생명분야\u0000단백질\u0000구조\u0000예측\u0000인공지능\u0000알파폴드(AlphaFold)<...\n",
      "[결과 3] 문서 페이지: 6, 코사인 유사도: 0.542\n",
      "SPRi\u0000이슈리포트\u0000IS-208과학을\u0000위한\u0000AI(AI4Science)\u0000연구의\u0000패러다임을\u0000바꾸다\u0000\n",
      "1\n",
      "I.\u0000연구배경1.1\u0000소프트웨어의\u0000발전과\u0000연구\u0000혁신□소프트웨어 기술의 발전은 연구...\n",
      "\n",
      "\n",
      "질문: 연구 패러다임의 변화\n",
      "------------------------------------------------------------\n",
      "상위 3개 결과 검색\n",
      "------------------------------------------------------------\n",
      "[결과 1] 문서 페이지: 26, 코사인 유사도: 0.689\n",
      "SPRi\u0000이슈리포트\u0000IS-208과학을\u0000위한\u0000AI(AI4Science)\u0000연구의\u0000패러다임을\u0000바꾸다\u0000\n",
      "21\n",
      "Ⅲ.\u0000요약과\u0000시사점3.1\u0000요약□연구 패러다임의 전환: 다섯 번째 과학 혁명과 ...\n",
      "[결과 2] 문서 페이지: 26, 코사인 유사도: 0.689\n",
      "SPRi\u0000이슈리포트\u0000IS-208과학을\u0000위한\u0000AI(AI4Science)\u0000연구의\u0000패러다임을\u0000바꾸다\u0000\n",
      "21\n",
      "Ⅲ.\u0000요약과\u0000시사점3.1\u0000요약□연구 패러다임의 전환: 다섯 번째 과학 혁명과 ...\n",
      "[결과 3] 문서 페이지: 18, 코사인 유사도: 0.690\n",
      "SPRi\u0000이슈리포트\u0000IS-208과학을\u0000위한\u0000AI(AI4Science)\u0000연구의\u0000패러다임을\u0000바꾸다\u0000\n",
      "13\n",
      "* 출처 : Cingillioglu et al., 2024를 토대로 SPRI ...\n",
      "\n",
      "\n",
      "질문: 자율실험실의 개념\n",
      "------------------------------------------------------------\n",
      "상위 3개 결과 검색\n",
      "------------------------------------------------------------\n",
      "[결과 1] 문서 페이지: 31, 코사인 유사도: 0.681\n",
      "SPRi\u0000이슈리포트\u0000IS-208과학을\u0000위한\u0000AI(AI4Science)\u0000연구의\u0000패러다임을\u0000바꾸다\u0000\n",
      "26\n",
      "참고2중국과학원의\u0000‘과학을\u0000위한\u0000AI\u0000플랫폼’\u0000사이언스원(ScienceOne)...\n",
      "[결과 2] 문서 페이지: 31, 코사인 유사도: 0.681\n",
      "SPRi\u0000이슈리포트\u0000IS-208과학을\u0000위한\u0000AI(AI4Science)\u0000연구의\u0000패러다임을\u0000바꾸다\u0000\n",
      "26\n",
      "참고2중국과학원의\u0000‘과학을\u0000위한\u0000AI\u0000플랫폼’\u0000사이언스원(ScienceOne)...\n",
      "[결과 3] 문서 페이지: 26, 코사인 유사도: 0.630\n",
      "SPRi\u0000이슈리포트\u0000IS-208과학을\u0000위한\u0000AI(AI4Science)\u0000연구의\u0000패러다임을\u0000바꾸다\u0000\n",
      "21\n",
      "Ⅲ.\u0000요약과\u0000시사점3.1\u0000요약□연구 패러다임의 전환: 다섯 번째 과학 혁명과 ...\n",
      "\n",
      "\n"
     ]
    }
   ],
   "source": [
    "# 4. 검색 테스트\n",
    "queries = [\n",
    "    \"AlphaFold는 무엇인가?\",\n",
    "    \"연구 패러다임의 변화\",\n",
    "    \"자율실험실의 개념\"\n",
    "]\n",
    "    \n",
    "for query in queries:\n",
    "    search(collection, ollama_emb, query)\n",
    "    print(\"\\n\")"
   ]
  },
  {
   "cell_type": "code",
   "execution_count": 43,
   "id": "2744db85",
   "metadata": {},
   "outputs": [
    {
     "data": {
      "image/png": "[encoded data removed]",
      "text/plain": [
       "<Figure size 1000x800 with 1 Axes>"
      ]
     },
     "metadata": {},
     "output_type": "display_data"
    }
   ],
   "source": [
    "visualize_embeddings(collection, queries, ollama_emb)"
   ]
  },
  {
   "cell_type": "code",
   "execution_count": null,
   "id": "6d3cda63",
   "metadata": {},
   "outputs": [],
   "source": []
  }
 ],
 "metadata": {
  "kernelspec": {
   "display_name": "demo-app",
   "language": "python",
   "name": "python3"
  },
  "language_info": {
   "codemirror_mode": {
    "name": "ipython",
    "version": 3
   },
   "file_extension": ".py",
   "mimetype": "text/x-python",
   "name": "python",
   "nbconvert_exporter": "python",
   "pygments_lexer": "ipython3",
   "version": "3.11.0"
  }
 },
 "nbformat": 4,
 "nbformat_minor": 5
}
