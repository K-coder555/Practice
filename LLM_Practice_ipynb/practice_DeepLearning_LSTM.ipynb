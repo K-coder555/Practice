{
 "cells": [
  {
   "cell_type": "markdown",
   "metadata": {},
   "source": [
    "#### 다음 실습 코드는 학습 목적으로만 사용 바랍니다. 문의 : audit@korea.ac.kr 임성열 Ph.D."
   ]
  },
  {
   "cell_type": "code",
   "execution_count": 1,
   "metadata": {},
   "outputs": [
    {
     "name": "stdout",
     "output_type": "stream",
     "text": [
      "Collecting torch\n",
      "  Using cached torch-2.8.0-cp311-cp311-win_amd64.whl (241.4 MB)\n",
      "Collecting numpy\n",
      "  Using cached numpy-2.3.2-cp311-cp311-win_amd64.whl (13.1 MB)\n",
      "Collecting filelock\n",
      "  Using cached filelock-3.18.0-py3-none-any.whl (16 kB)\n",
      "Requirement already satisfied: typing-extensions>=4.10.0 in c:\\workspace\\llm\\lib\\site-packages (from torch) (4.14.1)\n",
      "Collecting sympy>=1.13.3\n",
      "  Using cached sympy-1.14.0-py3-none-any.whl (6.3 MB)\n",
      "Collecting networkx\n",
      "  Using cached networkx-3.5-py3-none-any.whl (2.0 MB)\n",
      "Collecting jinja2\n",
      "  Using cached jinja2-3.1.6-py3-none-any.whl (134 kB)\n",
      "Collecting fsspec\n",
      "  Using cached fsspec-2025.7.0-py3-none-any.whl (199 kB)\n",
      "Collecting mpmath<1.4,>=1.1.0\n",
      "  Using cached mpmath-1.3.0-py3-none-any.whl (536 kB)\n",
      "Collecting MarkupSafe>=2.0\n",
      "  Using cached MarkupSafe-3.0.2-cp311-cp311-win_amd64.whl (15 kB)\n",
      "Installing collected packages: mpmath, sympy, numpy, networkx, MarkupSafe, fsspec, filelock, jinja2, torch\n",
      "Successfully installed MarkupSafe-3.0.2 filelock-3.18.0 fsspec-2025.7.0 jinja2-3.1.6 mpmath-1.3.0 networkx-3.5 numpy-2.3.2 sympy-1.14.0 torch-2.8.0\n",
      "Note: you may need to restart the kernel to use updated packages.\n"
     ]
    },
    {
     "name": "stderr",
     "output_type": "stream",
     "text": [
      "\n",
      "[notice] A new release of pip available: 22.3 -> 25.2\n",
      "[notice] To update, run: python.exe -m pip install --upgrade pip\n"
     ]
    }
   ],
   "source": [
    "%pip install torch numpy"
   ]
  },
  {
   "cell_type": "code",
   "execution_count": 2,
   "metadata": {},
   "outputs": [
    {
     "name": "stdout",
     "output_type": "stream",
     "text": [
      "Epoch [0/200] Loss: 2.8702\n",
      "Epoch [20/200] Loss: 0.2600\n",
      "Epoch [40/200] Loss: 0.0943\n",
      "Epoch [60/200] Loss: 0.0853\n",
      "Epoch [80/200] Loss: 0.0832\n",
      "Epoch [100/200] Loss: 0.0822\n",
      "Epoch [120/200] Loss: 0.0815\n",
      "Epoch [140/200] Loss: 0.0810\n",
      "Epoch [160/200] Loss: 0.0807\n",
      "Epoch [180/200] Loss: 0.0804\n",
      "\n",
      "Generated Text:\n",
      "hello world machine learning is fun is fun is fun is fu\n"
     ]
    }
   ],
   "source": [
    "import torch\n",
    "import torch.nn as nn\n",
    "import torch.optim as optim\n",
    "import numpy as np\n",
    "\n",
    "# 데이터 준비\n",
    "text = \"hello world machine learning is fun \"\n",
    "chars = sorted(list(set(text)))  # 등장 문자 목록\n",
    "char_to_idx = {c: i for i, c in enumerate(chars)}\n",
    "idx_to_char = {i: c for i, c in enumerate(chars)}\n",
    "\n",
    "# 파라미터 설정\n",
    "input_size = len(chars)\n",
    "hidden_size = 50\n",
    "num_layers = 1\n",
    "seq_length = 10\n",
    "learning_rate = 0.01\n",
    "\n",
    "# 학습 데이터 만들기\n",
    "input_data = []\n",
    "target_data = []\n",
    "\n",
    "for i in range(0, len(text) - seq_length):\n",
    "    input_seq = text[i:i+seq_length]\n",
    "    target_seq = text[i+1:i+seq_length+1]\n",
    "    \n",
    "    input_data.append([char_to_idx[c] for c in input_seq])\n",
    "    target_data.append([char_to_idx[c] for c in target_seq])\n",
    "\n",
    "input_data = torch.LongTensor(input_data)\n",
    "target_data = torch.LongTensor(target_data)\n",
    "\n",
    "# 모델 정의\n",
    "class CharLSTM(nn.Module):\n",
    "    def __init__(self, input_size, hidden_size, num_layers):\n",
    "        super(CharLSTM, self).__init__()\n",
    "        self.embedding = nn.Embedding(input_size, hidden_size)\n",
    "        self.lstm = nn.LSTM(hidden_size, hidden_size, num_layers, batch_first=True)\n",
    "        self.fc = nn.Linear(hidden_size, input_size)\n",
    "\n",
    "    def forward(self, x, hidden):\n",
    "        x = self.embedding(x)\n",
    "        out, hidden = self.lstm(x, hidden)\n",
    "        out = self.fc(out)\n",
    "        return out, hidden\n",
    "\n",
    "model = CharLSTM(input_size, hidden_size, num_layers)\n",
    "\n",
    "# 손실 함수 및 최적화\n",
    "criterion = nn.CrossEntropyLoss()\n",
    "optimizer = optim.Adam(model.parameters(), lr=learning_rate)\n",
    "\n",
    "# 학습\n",
    "for epoch in range(200):\n",
    "    hidden = None\n",
    "    output, hidden = model(input_data, hidden)\n",
    "    \n",
    "    loss = criterion(output.view(-1, input_size), target_data.view(-1))\n",
    "    \n",
    "    optimizer.zero_grad()\n",
    "    loss.backward()\n",
    "    optimizer.step()\n",
    "    \n",
    "    if epoch % 20 == 0:\n",
    "        print(f\"Epoch [{epoch}/200] Loss: {loss.item():.4f}\")\n",
    "\n",
    "# 문장 생성\n",
    "def generate_text(start_str, length):\n",
    "    model.eval()\n",
    "    chars_input = torch.LongTensor([[char_to_idx[c] for c in start_str]])\n",
    "    hidden = None\n",
    "    result = start_str\n",
    "    \n",
    "    for _ in range(length):\n",
    "        output, hidden = model(chars_input, hidden)\n",
    "        last_char_logits = output[:, -1, :]\n",
    "        last_char_idx = torch.argmax(last_char_logits, dim=1).item()\n",
    "        \n",
    "        result += idx_to_char[last_char_idx]\n",
    "        \n",
    "        chars_input = torch.LongTensor([[last_char_idx]])\n",
    "    \n",
    "    return result\n",
    "\n",
    "# 결과 보기\n",
    "print(\"\\nGenerated Text:\")\n",
    "print(generate_text(\"hello\", 50))\n"
   ]
  }
 ],
 "metadata": {
  "kernelspec": {
   "display_name": "llm",
   "language": "python",
   "name": "python3"
  },
  "language_info": {
   "codemirror_mode": {
    "name": "ipython",
    "version": 3
   },
   "file_extension": ".py",
   "mimetype": "text/x-python",
   "name": "python",
   "nbconvert_exporter": "python",
   "pygments_lexer": "ipython3",
   "version": "3.11.0"
  }
 },
 "nbformat": 4,
 "nbformat_minor": 2
}
